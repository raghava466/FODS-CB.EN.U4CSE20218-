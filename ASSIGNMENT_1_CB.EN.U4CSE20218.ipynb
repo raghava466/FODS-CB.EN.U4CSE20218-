{
  "cells": [
    {
      "cell_type": "code",
      "execution_count": null,
      "metadata": {
        "id": "CSRMHAhiEzZY"
      },
      "outputs": [],
      "source": []
    },
    {
      "cell_type": "markdown",
      "metadata": {
        "id": "v4hzPThNElUy"
      },
      "source": [
        "**Data science assignment -1**\n",
        "\n",
        "\n",
        "\n"
      ]
    },
    {
      "cell_type": "code",
      "execution_count": 12,
      "metadata": {
        "colab": {
          "base_uri": "https://localhost:8080/"
        },
        "id": "NqFmmrwyPhte",
        "outputId": "8bf556ff-5fd1-42f8-e53a-6ed53c87157a"
      },
      "outputs": [
        {
          "name": "stdout",
          "output_type": "stream",
          "text": [
            "('aman', '222', 777, 400.4)\n"
          ]
        }
      ],
      "source": [
        "#1.Generate a tuple from the set [\"aman\", \"222\", 777, 400.4]\n",
        "set = [\"aman\",\"222\",777,400.4]\n",
        "tup = tuple(set)\n",
        "print(tup)"
      ]
    },
    {
      "cell_type": "code",
      "execution_count": 13,
      "metadata": {
        "colab": {
          "base_uri": "https://localhost:8080/"
        },
        "id": "0bsVJO3R_8j_",
        "outputId": "17b35ef8-de81-47f5-c281-eda1bce555a7"
      },
      "outputs": [
        {
          "name": "stdout",
          "output_type": "stream",
          "text": [
            "{'Roll Number': 'CB.EN.U4CSE20252', 'First Name': 'Sai Ramya', 'Last Name': 'Illuri', 'DOB': '02-12-2002'}\n"
          ]
        }
      ],
      "source": [
        "#2.Create a dictionary of your basic data: (a) Roll No (b) Last Name (c) First Name (d) Date of birth. Print out the values and keys.\n",
        "dict1 = {\"Roll Number\": \"CB.EN.U4CSE20252\",\"First Name\": \"Sai Ramya\",\"Last Name\": \"Illuri\",\"DOB\": \"02-12-2002\"}\n",
        "print(dict1)\n"
      ]
    },
    {
      "cell_type": "code",
      "execution_count": 11,
      "metadata": {
        "colab": {
          "base_uri": "https://localhost:8080/"
        },
        "id": "g4TwC4HYBOTW",
        "outputId": "81d71d63-232d-4cbc-a9f3-5e5eeba070a5"
      },
      "outputs": [
        {
          "name": "stdout",
          "output_type": "stream",
          "text": [
            "[[0 0]\n",
            " [0 0]]\n"
          ]
        }
      ],
      "source": [
        "#3.Use rand function to generate a 2-dimensional random array with seed.\n",
        "from numpy import random\n",
        "arr = random.randint(0,1,size = (2,2))\n",
        "print(arr)"
      ]
    },
    {
      "cell_type": "code",
      "execution_count": 14,
      "metadata": {
        "colab": {
          "base_uri": "https://localhost:8080/"
        },
        "id": "9ImtAOdCCPVW",
        "outputId": "a2f34a89-8bb1-49ae-a1fe-3ad93fd3d5f9"
      },
      "outputs": [
        {
          "name": "stdout",
          "output_type": "stream",
          "text": [
            "0.9009719456483994\n",
            "1234\n"
          ]
        }
      ],
      "source": [
        "#4.Generate a single random number in [0.0, 1.0]. Find the absolute value of (-1234)\n",
        "import numpy as np\n",
        "x=np.random.uniform(0.0,1.0)\n",
        "print(x)\n",
        "print(abs(-1234))"
      ]
    },
    {
      "cell_type": "code",
      "execution_count": 15,
      "metadata": {
        "colab": {
          "base_uri": "https://localhost:8080/"
        },
        "id": "OqlSZ1nuG4Jf",
        "outputId": "6abb5c2d-c795-429e-f643-c3cd1b6f0bcd"
      },
      "outputs": [
        {
          "name": "stdout",
          "output_type": "stream",
          "text": [
            "50\n"
          ]
        }
      ],
      "source": [
        "#5.Return a random integer N such that 20 <= N <= 90. \n",
        "x=np.random.randint(20,91)\n",
        "print(x)"
      ]
    },
    {
      "cell_type": "code",
      "execution_count": 25,
      "metadata": {
        "colab": {
          "base_uri": "https://localhost:8080/",
          "height": 235
        },
        "id": "crDPzkGPIP8U",
        "outputId": "a591269d-1c95-4ff8-d059-e0969a639fd9"
      },
      "outputs": [
        {
          "ename": "TypeError",
          "evalue": "ignored",
          "output_type": "error",
          "traceback": [
            "\u001b[0;31m---------------------------------------------------------------------------\u001b[0m",
            "\u001b[0;31mTypeError\u001b[0m                                 Traceback (most recent call last)",
            "\u001b[0;32m<ipython-input-25-79ddb9c0e37b>\u001b[0m in \u001b[0;36m<module>\u001b[0;34m\u001b[0m\n\u001b[1;32m      1\u001b[0m \u001b[0;31m#6.Given a population or set[11, 12, 13,14, 15]\u001b[0m\u001b[0;34m\u001b[0m\u001b[0;34m\u001b[0m\u001b[0;34m\u001b[0m\u001b[0m\n\u001b[1;32m      2\u001b[0m \u001b[0;31m#Return a 3 length list of unique elements without replacement.\u001b[0m\u001b[0;34m\u001b[0m\u001b[0;34m\u001b[0m\u001b[0;34m\u001b[0m\u001b[0m\n\u001b[0;32m----> 3\u001b[0;31m \u001b[0mset1\u001b[0m \u001b[0;34m=\u001b[0m \u001b[0mset\u001b[0m\u001b[0;34m(\u001b[0m\u001b[0;34m[\u001b[0m\u001b[0;36m11\u001b[0m\u001b[0;34m,\u001b[0m\u001b[0;36m12\u001b[0m\u001b[0;34m,\u001b[0m\u001b[0;36m13\u001b[0m\u001b[0;34m,\u001b[0m\u001b[0;36m14\u001b[0m\u001b[0;34m,\u001b[0m\u001b[0;36m15\u001b[0m\u001b[0;34m]\u001b[0m\u001b[0;34m)\u001b[0m\u001b[0;34m\u001b[0m\u001b[0;34m\u001b[0m\u001b[0m\n\u001b[0m\u001b[1;32m      4\u001b[0m \u001b[0mset2\u001b[0m \u001b[0;34m=\u001b[0m \u001b[0mrandom\u001b[0m\u001b[0;34m.\u001b[0m\u001b[0mchoices\u001b[0m\u001b[0;34m(\u001b[0m\u001b[0mlist\u001b[0m\u001b[0;34m(\u001b[0m\u001b[0mset1\u001b[0m\u001b[0;34m)\u001b[0m\u001b[0;34m,\u001b[0m \u001b[0mk\u001b[0m\u001b[0;34m=\u001b[0m\u001b[0;36m3\u001b[0m\u001b[0;34m)\u001b[0m\u001b[0;34m\u001b[0m\u001b[0;34m\u001b[0m\u001b[0m\n\u001b[1;32m      5\u001b[0m \u001b[0mprint\u001b[0m\u001b[0;34m(\u001b[0m\u001b[0mset2\u001b[0m\u001b[0;34m)\u001b[0m\u001b[0;34m\u001b[0m\u001b[0;34m\u001b[0m\u001b[0m\n",
            "\u001b[0;31mTypeError\u001b[0m: 'list' object is not callable"
          ]
        }
      ],
      "source": [
        "#6.Given a population or set[11, 12, 13,14, 15]\n",
        "#Return a 3 length list of unique elements without replacement.\n",
        "set1 = set([11,12,13,14,15])\n",
        "set2 = random.choices(list(set1), k=3)\n",
        "print(set2)"
      ]
    },
    {
      "cell_type": "code",
      "execution_count": null,
      "metadata": {
        "id": "00z22v69PEjY"
      },
      "outputs": [],
      "source": [
        "import random\n",
        "Set1 = set([11, 12, 13, 14, 15])\n",
        "UpdatedList = random.choices(list(Set1), k = 3)\n",
        "print(UpdatedList)\n",
        "set2 = random.choice(list(Set1))\n",
        "print(set2)"
      ]
    },
    {
      "cell_type": "code",
      "execution_count": null,
      "metadata": {
        "colab": {
          "base_uri": "https://localhost:8080/"
        },
        "id": "vhK8xKqoVJut",
        "outputId": "e153121c-2806-4180-fe71-b78295a7c95a"
      },
      "outputs": [
        {
          "name": "stdout",
          "output_type": "stream",
          "text": [
            "The King is Dead, Long Live The King\n"
          ]
        }
      ],
      "source": [
        "#7.Write the text \"The King is Dead, Long Live The King\" on to a file in your hard drive; read and print the text.\n",
        "import os\n",
        "os.getcwd()\n",
        "os.chdir(r\"/content/sample_data\")\n",
        "os.mkdir('document1')\n",
        "os.chdir('document1')\n",
        "f = open('document_1.txt','w+')\n",
        "f.write('The King is Dead, Long Live The King')\n",
        "f.seek(0)\n",
        "print(f.read())\n",
        "f.close()"
      ]
    },
    {
      "cell_type": "code",
      "execution_count": 19,
      "metadata": {
        "colab": {
          "base_uri": "https://localhost:8080/"
        },
        "id": "-7Zo2z1MHDoP",
        "outputId": "b0e6b42f-30bc-4243-f940-5d86456909b3"
      },
      "outputs": [
        {
          "name": "stdout",
          "output_type": "stream",
          "text": [
            "Eligible to vote\n",
            "0\n",
            "1\n",
            "2\n",
            "3\n",
            "4\n",
            "5\n",
            "6\n",
            "7\n",
            "8\n",
            "9\n",
            "1\n",
            "2\n",
            "3\n",
            "4\n",
            "6\n",
            "7\n"
          ]
        }
      ],
      "source": [
        "#8.Create an illustrative function to demonstrate use of: if, elif and else (b) for, while, break and continue. \n",
        "#a)\n",
        "def eligible(z):\n",
        "  if(z>=18):\n",
        "    print(\"Eligible to vote\")\n",
        "  else:\n",
        "    print(\"Not Eligible to vote\")\n",
        "eligible(20)\n",
        "#b)\n",
        "for i in range(10):\n",
        "  print(i)\n",
        "#c)\n",
        "x=0\n",
        "while(x<10):\n",
        "  x+=1\n",
        "  if x==5:\n",
        "    continue\n",
        "  if x==8:\n",
        "    break\n",
        "  print(x)"
      ]
    },
    {
      "cell_type": "code",
      "execution_count": null,
      "metadata": {
        "colab": {
          "base_uri": "https://localhost:8080/"
        },
        "id": "9duhrkwYXssg",
        "outputId": "e873a9b0-086f-40ca-8d56-afae1b66268c"
      },
      "outputs": [
        {
          "name": "stdout",
          "output_type": "stream",
          "text": [
            "The King is Dead, Long Live The King\n",
            "T\n",
            " Ki\n",
            " King is Dead, Long Live The King\n",
            "['The', 'King', 'is', 'Dead,', 'Long', 'Live', 'The', 'King']\n"
          ]
        }
      ],
      "source": [
        "#9.\tGiven a string \"The King is Dead, Long Live The King\" \n",
        "#Print the complete string\n",
        "#Print first character of the string\n",
        "#Print characters starting from 3rd to 5th\n",
        "#Print string starting from 3rd character\n",
        "#Split the words\n",
        "\n",
        "string = 'The King is Dead, Long Live The King'\n",
        "print(string)\n",
        "print(string[0])\n",
        "print(string[3:6])\n",
        "print(string[3:])\n",
        "str = string.split()\n",
        "print(str)"
      ]
    },
    {
      "cell_type": "code",
      "execution_count": 24,
      "metadata": {
        "colab": {
          "base_uri": "https://localhost:8080/"
        },
        "id": "lflNRZQJaQhq",
        "outputId": "ab5c6c52-7eef-4da7-d699-a175cbae5d4e"
      },
      "outputs": [
        {
          "name": "stdout",
          "output_type": "stream",
          "text": [
            "The first and second element of arr 1 4\n"
          ]
        }
      ],
      "source": [
        "#10.An array can be created from a list:  Create an array from a list comprising of numbers 1,4,5,8 (treat them as floats).Slice the above array to display first and second elementsimport numpy as np\n",
        "list2=[1,4,5,8]\n",
        "arr=np.array(list2)\n",
        "print(\"The first and second element of arr\",arr[0],arr[1]) "
      ]
    },
    {
      "cell_type": "code",
      "execution_count": 26,
      "metadata": {
        "colab": {
          "base_uri": "https://localhost:8080/"
        },
        "id": "6pZqMbyAepSh",
        "outputId": "1ef74b8a-62ca-47ba-8681-8755557c89c5"
      },
      "outputs": [
        {
          "name": "stdout",
          "output_type": "stream",
          "text": [
            "[[1. 2. 3.]\n",
            " [4. 5. 6.]\n",
            " [7. 8. 9.]]\n"
          ]
        }
      ],
      "source": [
        "#11.Arrays can be multidimensional. Create a two-dimensional array of (1,2,3) and (4,5,6).\n",
        "arr=np.array([[1.,2.,3.],[4.,5.,6.]])\n",
        "print(arr)"
      ]
    },
    {
      "cell_type": "code",
      "execution_count": null,
      "metadata": {
        "colab": {
          "base_uri": "https://localhost:8080/"
        },
        "id": "lAgU9HyGhXEW",
        "outputId": "cb787e53-304a-4493-84ad-bc47fe23bd0b"
      },
      "outputs": [
        {
          "name": "stdout",
          "output_type": "stream",
          "text": [
            "Second Row [[0 0]]\n",
            "Second Col [0]\n",
            "Length of the array : 2\n"
          ]
        }
      ],
      "source": [
        "#12.Array slicing works with multiple dimensions in the same way as usual, applying each slice specification as a filter to a specified dimension. Consider two-dimensional array of (1,2,3) and (4,5,6).\n",
        "print(\"Second Row\",arr[1:][:])\n",
        "print(\"Second Col\",arr[1:,1])\n",
        "print(\"Length of the array :\",len(arr))"
      ]
    },
    {
      "cell_type": "code",
      "execution_count": null,
      "metadata": {
        "colab": {
          "base_uri": "https://localhost:8080/"
        },
        "id": "RYV-GwfMhijP",
        "outputId": "8f8a8a66-3565-49da-ad76-2ccfee188d76"
      },
      "outputs": [
        {
          "name": "stdout",
          "output_type": "stream",
          "text": [
            "1D array : [56  9 64 38 52 38 23 55 69 82]\n",
            "2D array :\n",
            " [[56  9]\n",
            " [64 38]\n",
            " [52 38]\n",
            " [23 55]\n",
            " [69 82]]\n",
            "Transpose :\n",
            " [[56 64 52 23 69]\n",
            " [ 9 38 38 55 82]]\n"
          ]
        }
      ],
      "source": [
        "#13.Arrays can be reshaped using tuples that specify new dimensions. Turn a ten-element one-dimensional array into a two-dimensional one whose first axis has five elements and whose second axis has two elements. Obtain the transpose of the arraylist3=[]\n",
        "for i in range(10):\n",
        "  list3.append(np.random.randint(0,100))\n",
        "oned=np.array(list3)\n",
        "print(\"1D array :\",oned)\n",
        "twod=oned.reshape(5,2)\n",
        "print(\"2D array :\\n\",twod)\n",
        "print(\"Transpose :\\n\",twod.T)"
      ]
    },
    {
      "cell_type": "code",
      "execution_count": null,
      "metadata": {
        "colab": {
          "base_uri": "https://localhost:8080/"
        },
        "id": "6VaQvMQlkHvp",
        "outputId": "0f9da432-f3a7-44b8-a017-36b9628ceaa1"
      },
      "outputs": [
        {
          "name": "stdout",
          "output_type": "stream",
          "text": [
            "[[1 2 3]\n",
            " [1 2 3]\n",
            " [1 2 3]]\n"
          ]
        }
      ],
      "source": [
        "#14.Create an array from a list of 1,2 and 3.\n",
        "l1=[1,2,3]\n",
        "l2=[1,2,3]\n",
        "l3=[1,2,3]\n",
        "newarr=np.array([l1,l2,l3])\n",
        "print(newarr)"
      ]
    },
    {
      "cell_type": "code",
      "execution_count": null,
      "metadata": {
        "colab": {
          "base_uri": "https://localhost:8080/"
        },
        "id": "-IsMFP5pkXf4",
        "outputId": "2f74eeec-2fce-42ef-cd47-fc2d3cc5db32"
      },
      "outputs": [
        {
          "name": "stdout",
          "output_type": "stream",
          "text": [
            "[9 9 9]\n"
          ]
        }
      ],
      "source": [
        "#15.Fill an array [1,2,3] with a single value [9,9,9]. \n",
        "arr=np.array([1,2,3])\n",
        "for i in range(len(arr)):\n",
        "  arr[i]=9\n",
        "print(arr)"
      ]
    },
    {
      "cell_type": "code",
      "execution_count": null,
      "metadata": {
        "colab": {
          "base_uri": "https://localhost:8080/"
        },
        "id": "RdZP_Eppkgt6",
        "outputId": "2b2abe04-b099-4440-9dd0-e1c25503b447"
      },
      "outputs": [
        {
          "name": "stdout",
          "output_type": "stream",
          "text": [
            "11\n"
          ]
        }
      ],
      "source": [
        "#16.Sum the elements of array [2,4,5].\n",
        "arr=np.array([2,4,5])\n",
        "sum=0\n",
        "for i in arr:\n",
        "  sum+=i\n",
        "print(sum)"
      ]
    },
    {
      "cell_type": "code",
      "execution_count": null,
      "metadata": {
        "colab": {
          "base_uri": "https://localhost:8080/"
        },
        "id": "mjH4UnDjkn7X",
        "outputId": "7c507c64-8cec-4414-ed96-4d6fa57cd4a0"
      },
      "outputs": [
        {
          "name": "stdout",
          "output_type": "stream",
          "text": [
            "427350\n"
          ]
        }
      ],
      "source": [
        "#17.Give the products of array [77,74,75]\n",
        "arr=np.array([77,74,75])\n",
        "prod=1\n",
        "for i in arr:\n",
        "  prod*=i\n",
        "print(prod)"
      ]
    },
    {
      "cell_type": "code",
      "execution_count": null,
      "metadata": {
        "colab": {
          "base_uri": "https://localhost:8080/"
        },
        "id": "jc-EwJO-kwVb",
        "outputId": "ecfc781e-1ea6-4454-f776-52a2d57e3ef7"
      },
      "outputs": [
        {
          "name": "stdout",
          "output_type": "stream",
          "text": [
            "12.461538461538462\n",
            "367.32544378698225\n",
            "56\n",
            "1\n",
            "1\n",
            "2.0\n",
            "12\n",
            "19.165736192147232\n"
          ]
        }
      ],
      "source": [
        "#18.Given an array [2,1,9,1,2,22,1,1,4,55,6,2,56]. Find mean, variance, max, min, argmin, median, argmax and standard deviation.\n",
        "arr=np.array([2,1,9,1,2,22,1,1,4,55,6,2,56])\n",
        "print(np.mean(arr))\n",
        "print(np.var(arr))\n",
        "print(np.max(arr))\n",
        "print(np.min(arr))\n",
        "print(np.argmin(arr))\n",
        "print(np.median(arr))\n",
        "print(np.argmax(arr))\n",
        "print(np.std(arr))"
      ]
    },
    {
      "cell_type": "code",
      "execution_count": null,
      "metadata": {
        "colab": {
          "base_uri": "https://localhost:8080/"
        },
        "id": "Jc9Lmlp1lSu6",
        "outputId": "256c9c1d-fbac-4a8e-9b7a-9332e69bca15"
      },
      "outputs": [
        {
          "name": "stdout",
          "output_type": "stream",
          "text": [
            "[1 4 5 7]\n"
          ]
        }
      ],
      "source": [
        "#19.Extract unique elements from an array: [1, 1, 4, 5, 5, 5, 7] and sort it.\n",
        "arr=np.array([1, 1, 7, 5, 5, 5, 4])\n",
        "temp=np.array(np.unique(arr))\n",
        "temp.sort()\n",
        "print(temp)"
      ]
    },
    {
      "cell_type": "code",
      "execution_count": null,
      "metadata": {
        "colab": {
          "base_uri": "https://localhost:8080/"
        },
        "id": "F563GZryl6b6",
        "outputId": "dbdcf15a-a6ec-4a7e-82b7-e7ab6ce07071"
      },
      "outputs": [
        {
          "name": "stdout",
          "output_type": "stream",
          "text": [
            "5\n"
          ]
        }
      ],
      "source": [
        "#20.Find dot product of two arrays [1, 2, 3]and [0, 1, 1].\n",
        "x=np.array([1,2,3])\n",
        "y=np.array([0,1,1])\n",
        "print(np.dot(x,y))"
      ]
    },
    {
      "cell_type": "code",
      "execution_count": null,
      "metadata": {
        "colab": {
          "base_uri": "https://localhost:8080/"
        },
        "id": "_j-4qwiXmLHf",
        "outputId": "3c35de8d-c6a7-4bf7-a074-6f868d7580a1"
      },
      "outputs": [
        {
          "name": "stdout",
          "output_type": "stream",
          "text": [
            "[-1. -2.]\n",
            "[[0.9701425  0.9486833 ]\n",
            " [0.24253563 0.31622777]]\n"
          ]
        }
      ],
      "source": [
        "#21.Find the eigenvalues and eigenvectors of matrix A.\n",
        "import numpy as np\n",
        "from numpy.linalg import eig\n",
        "a = np.array([[2, -12], \n",
        "              [1, -5]])\n",
        "w,v=eig(a)\n",
        "print(w)\n",
        "print(v)"
      ]
    }
  ],
  "metadata": {
    "colab": {
      "collapsed_sections": [],
      "provenance": []
    },
    "kernelspec": {
      "display_name": "Python 3",
      "name": "python3"
    },
    "language_info": {
      "name": "python"
    }
  },
  "nbformat": 4,
  "nbformat_minor": 0
}
