{
  "nbformat": 4,
  "nbformat_minor": 0,
  "metadata": {
    "colab": {
      "provenance": []
    },
    "kernelspec": {
      "name": "python3",
      "display_name": "Python 3"
    },
    "language_info": {
      "name": "python"
    }
  },
  "cells": [
    {
      "cell_type": "markdown",
      "source": [
        "TWO TAILED TEST "
      ],
      "metadata": {
        "id": "HClzZ4XKA609"
      }
    },
    {
      "cell_type": "code",
      "execution_count": null,
      "metadata": {
        "id": "4BGe2VTe6wRk"
      },
      "outputs": [],
      "source": [
        "import numpy as np\n",
        "import scipy.stats as st"
      ]
    },
    {
      "cell_type": "code",
      "source": [
        "\n",
        "n = 30\n",
        "xbar = 140\n",
        "mu = 100\n",
        "sigma = 15\n",
        "alpha = 0.05"
      ],
      "metadata": {
        "id": "Enm7bddE7Sf8"
      },
      "execution_count": null,
      "outputs": []
    },
    {
      "cell_type": "code",
      "source": [
        "z_critical = st.norm.ppf(1-(alpha/2))\n",
        "z_critical"
      ],
      "metadata": {
        "colab": {
          "base_uri": "https://localhost:8080/"
        },
        "id": "9C1pSS5O7Y1u",
        "outputId": "41e33b2c-8c23-4411-a2b3-7c41510b1cad"
      },
      "execution_count": null,
      "outputs": [
        {
          "output_type": "execute_result",
          "data": {
            "text/plain": [
              "1.959963984540054"
            ]
          },
          "metadata": {},
          "execution_count": 5
        }
      ]
    },
    {
      "cell_type": "code",
      "source": [
        "z = (xbar-mu)/(sigma/np.sqrt(n))\n",
        "z"
      ],
      "metadata": {
        "colab": {
          "base_uri": "https://localhost:8080/"
        },
        "id": "U5PhQ1Q57cMA",
        "outputId": "5958737e-789c-45a7-fa1b-04c3f0c85fe7"
      },
      "execution_count": null,
      "outputs": [
        {
          "output_type": "execute_result",
          "data": {
            "text/plain": [
              "14.60593486680443"
            ]
          },
          "metadata": {},
          "execution_count": 6
        }
      ]
    },
    {
      "cell_type": "code",
      "source": [
        "if (z < z_critical) and (z > -z_critical): \n",
        "    print(\"Null hypothesis cannot be rejected\")\n",
        "else:\n",
        "    print(\"Reject null hypothesis\")"
      ],
      "metadata": {
        "colab": {
          "base_uri": "https://localhost:8080/"
        },
        "id": "jqFI8WAz7fY5",
        "outputId": "32ec8969-4356-427d-bc41-013f42b330a8"
      },
      "execution_count": null,
      "outputs": [
        {
          "output_type": "stream",
          "name": "stdout",
          "text": [
            "Reject null hypothesis\n"
          ]
        }
      ]
    },
    {
      "cell_type": "markdown",
      "source": [
        "RIGHT TAILED TEST"
      ],
      "metadata": {
        "id": "1BZswvH7BKvp"
      }
    },
    {
      "cell_type": "code",
      "source": [
        "n = 200\n",
        "xbar = 147\n",
        "mu = 145\n",
        "sigma = 20\n",
        "alpha = 0.05"
      ],
      "metadata": {
        "id": "nPWYkghCBHsK"
      },
      "execution_count": null,
      "outputs": []
    },
    {
      "cell_type": "code",
      "source": [
        "z_critical = abs(st.norm.ppf(alpha))\n",
        "z_critical"
      ],
      "metadata": {
        "colab": {
          "base_uri": "https://localhost:8080/"
        },
        "id": "_IJl8NalCz85",
        "outputId": "e4894de5-c16f-4e2d-d9f4-57cc6f89086f"
      },
      "execution_count": null,
      "outputs": [
        {
          "output_type": "execute_result",
          "data": {
            "text/plain": [
              "1.6448536269514729"
            ]
          },
          "metadata": {},
          "execution_count": 9
        }
      ]
    },
    {
      "cell_type": "code",
      "source": [
        "z = (xbar-mu)/(sigma/np.sqrt(n))\n",
        "z"
      ],
      "metadata": {
        "colab": {
          "base_uri": "https://localhost:8080/"
        },
        "id": "qcVG8FdpDL6n",
        "outputId": "d311a6c2-80cb-4d50-f5cb-0454a4541906"
      },
      "execution_count": null,
      "outputs": [
        {
          "output_type": "execute_result",
          "data": {
            "text/plain": [
              "1.4142135623730951"
            ]
          },
          "metadata": {},
          "execution_count": 10
        }
      ]
    },
    {
      "cell_type": "code",
      "source": [
        "if (z < z_critical): \n",
        "    print(\"Fail to Reject null hypothesis\")\n",
        "else:\n",
        "    print(\"Reject null hypothesis\")"
      ],
      "metadata": {
        "colab": {
          "base_uri": "https://localhost:8080/"
        },
        "id": "hLv6jqXjDOm4",
        "outputId": "3cd9119f-81d0-4d9d-81d2-3283a209e034"
      },
      "execution_count": null,
      "outputs": [
        {
          "output_type": "stream",
          "name": "stdout",
          "text": [
            "Fail to Reject null hypothesis\n"
          ]
        }
      ]
    },
    {
      "cell_type": "markdown",
      "source": [
        "LEFT TAILED TEST"
      ],
      "metadata": {
        "id": "FTV37xxcDmiU"
      }
    },
    {
      "cell_type": "code",
      "source": [
        "n = 30\n",
        "xbar = 9900\n",
        "mu = 10000\n",
        "sigma = 120\n",
        "alpha = 0.05"
      ],
      "metadata": {
        "id": "krP63kFxDioP"
      },
      "execution_count": null,
      "outputs": []
    },
    {
      "cell_type": "code",
      "source": [
        "z_critical = st.norm.ppf(alpha)\n",
        "z_critical"
      ],
      "metadata": {
        "colab": {
          "base_uri": "https://localhost:8080/"
        },
        "id": "HzSJCEZkEETW",
        "outputId": "92c506cb-93f4-469a-9b6c-79d4b65a76ac"
      },
      "execution_count": null,
      "outputs": [
        {
          "output_type": "execute_result",
          "data": {
            "text/plain": [
              "-1.6448536269514729"
            ]
          },
          "metadata": {},
          "execution_count": 13
        }
      ]
    },
    {
      "cell_type": "code",
      "source": [
        "z = (xbar-mu)/(sigma/np.sqrt(n))\n",
        "z"
      ],
      "metadata": {
        "colab": {
          "base_uri": "https://localhost:8080/"
        },
        "id": "ieSvfADQE4Mf",
        "outputId": "4defa816-f284-4d0c-b254-f8a3f4b8d7db"
      },
      "execution_count": null,
      "outputs": [
        {
          "output_type": "execute_result",
          "data": {
            "text/plain": [
              "-4.564354645876384"
            ]
          },
          "metadata": {},
          "execution_count": 14
        }
      ]
    },
    {
      "cell_type": "code",
      "source": [
        "if (z > z_critical): \n",
        "    print(\"Fail to Reject null hypothesis\")\n",
        "else:\n",
        "    print(\"Reject null hypothesis\")"
      ],
      "metadata": {
        "id": "bEamyxWnFC7Y",
        "outputId": "e9c5446e-8ff4-4ce3-f5c0-f1a6ee5ab1a4",
        "colab": {
          "base_uri": "https://localhost:8080/"
        }
      },
      "execution_count": null,
      "outputs": [
        {
          "output_type": "stream",
          "name": "stdout",
          "text": [
            "Reject null hypothesis\n"
          ]
        }
      ]
    },
    {
      "cell_type": "markdown",
      "source": [
        "z-Test using P-value"
      ],
      "metadata": {
        "id": "O-gTOb_vx5v5"
      }
    },
    {
      "cell_type": "markdown",
      "source": [
        "Left-tailed test: p-value = cdf(x)\n",
        "\n",
        "Right-tailed test: p-value = 1 - cdf(x)\n",
        "\n",
        "Two tail : p-value = 2*(1-cdf(|x|))"
      ],
      "metadata": {
        "id": "GSMYoeX0xxdJ"
      }
    },
    {
      "cell_type": "markdown",
      "source": [
        "TWO TAIL TEST"
      ],
      "metadata": {
        "id": "0vAKOoJY5PQc"
      }
    },
    {
      "cell_type": "code",
      "source": [
        "#H0 : μ = 8 and Ha : μ != 8\n",
        "n = 30\n",
        "xbar = 140\n",
        "mu = 100\n",
        "sigma = 15\n",
        "alpha = 0.05"
      ],
      "metadata": {
        "id": "RsqW09Cax10-"
      },
      "execution_count": null,
      "outputs": []
    },
    {
      "cell_type": "code",
      "source": [
        "z = (xbar-mu)/(sigma/np.sqrt(n))\n",
        "z"
      ],
      "metadata": {
        "colab": {
          "base_uri": "https://localhost:8080/"
        },
        "id": "NZzIXnJ8yCAb",
        "outputId": "f5ecefb1-1df2-4991-9667-be2d05ca39bd"
      },
      "execution_count": null,
      "outputs": [
        {
          "output_type": "execute_result",
          "data": {
            "text/plain": [
              "14.60593486680443"
            ]
          },
          "metadata": {},
          "execution_count": 44
        }
      ]
    },
    {
      "cell_type": "code",
      "source": [
        "p_val = (1 - st.norm.cdf(abs(z))) * 2\n",
        "p_val"
      ],
      "metadata": {
        "colab": {
          "base_uri": "https://localhost:8080/"
        },
        "id": "8IT9glGYyJm1",
        "outputId": "a5f6af0d-9e48-437a-f65b-58ac28cf3d26"
      },
      "execution_count": null,
      "outputs": [
        {
          "output_type": "execute_result",
          "data": {
            "text/plain": [
              "0.0"
            ]
          },
          "metadata": {},
          "execution_count": 45
        }
      ]
    },
    {
      "cell_type": "code",
      "source": [
        "if (p_val > alpha):\n",
        "    print(\"Null hypothesis cannot be rejected\")\n",
        "else:\n",
        "    print(\"Reject null hypothesis\")"
      ],
      "metadata": {
        "colab": {
          "base_uri": "https://localhost:8080/"
        },
        "id": "6FUzEpmsyM5v",
        "outputId": "468d3e6d-d9de-44e5-fe59-fe71cb44ee55"
      },
      "execution_count": null,
      "outputs": [
        {
          "output_type": "stream",
          "name": "stdout",
          "text": [
            "Null hypothesis cannot be rejected\n"
          ]
        }
      ]
    },
    {
      "cell_type": "markdown",
      "source": [
        "Right tail test\n"
      ],
      "metadata": {
        "id": "4b2UHbB85S3d"
      }
    },
    {
      "cell_type": "code",
      "source": [
        "n = 50\n",
        "xbar = 305\n",
        "mu = 300\n",
        "sigma = 30\n",
        "alpha = 0.05"
      ],
      "metadata": {
        "id": "i5ELhBpR5N1f"
      },
      "execution_count": null,
      "outputs": []
    },
    {
      "cell_type": "code",
      "source": [
        "z = (xbar-mu)/(sigma/np.sqrt(n))\n",
        "print(\"z value :\", z)"
      ],
      "metadata": {
        "colab": {
          "base_uri": "https://localhost:8080/"
        },
        "id": "eKZAHJXY6FrW",
        "outputId": "f8546014-1046-42c8-9423-f70015b24aa8"
      },
      "execution_count": null,
      "outputs": [
        {
          "output_type": "stream",
          "name": "stdout",
          "text": [
            "z value : 1.1785113019775793\n"
          ]
        }
      ]
    },
    {
      "cell_type": "code",
      "source": [
        "p_val = (1 - st.norm.cdf(abs(z)))\n",
        "p_val"
      ],
      "metadata": {
        "colab": {
          "base_uri": "https://localhost:8080/"
        },
        "id": "_nQAIRph6H_E",
        "outputId": "9df00fc4-f591-48fd-fa41-2cccb487cd25"
      },
      "execution_count": null,
      "outputs": [
        {
          "output_type": "execute_result",
          "data": {
            "text/plain": [
              "0.11929641465821783"
            ]
          },
          "metadata": {},
          "execution_count": 49
        }
      ]
    },
    {
      "cell_type": "code",
      "source": [
        "if (p_val > alpha):\n",
        "    print(\"Null hypothesis cannot be rejected\")\n",
        "else:\n",
        "    print(\"Reject null hypothesis\")"
      ],
      "metadata": {
        "colab": {
          "base_uri": "https://localhost:8080/"
        },
        "id": "j0wvM-zo6NFm",
        "outputId": "9ba5b993-3c0e-4f12-c3e3-b77ecb8c9a0e"
      },
      "execution_count": null,
      "outputs": [
        {
          "output_type": "stream",
          "name": "stdout",
          "text": [
            "Null hypothesis cannot be rejected\n"
          ]
        }
      ]
    },
    {
      "cell_type": "markdown",
      "source": [
        "LEFT TAIL"
      ],
      "metadata": {
        "id": "AHrgFEHj84De"
      }
    },
    {
      "cell_type": "code",
      "source": [
        "n = 30\n",
        "xbar = 9900\n",
        "mu = 10000\n",
        "sigma = 120\n",
        "alpha = 0.05"
      ],
      "metadata": {
        "id": "Ikh2L94c8cFe"
      },
      "execution_count": null,
      "outputs": []
    },
    {
      "cell_type": "code",
      "source": [
        "z = (xbar-mu)/(sigma/np.sqrt(n))\n",
        "print(\"z value :\", z)"
      ],
      "metadata": {
        "colab": {
          "base_uri": "https://localhost:8080/"
        },
        "id": "a2yg84Ce9cZ7",
        "outputId": "278bdbf2-8b67-4561-b55b-fc5745be9f58"
      },
      "execution_count": null,
      "outputs": [
        {
          "output_type": "stream",
          "name": "stdout",
          "text": [
            "z value : -4.564354645876384\n"
          ]
        }
      ]
    },
    {
      "cell_type": "code",
      "source": [
        "p_val = st.norm.cdf(z)\n",
        "p_val"
      ],
      "metadata": {
        "colab": {
          "base_uri": "https://localhost:8080/"
        },
        "id": "SDsauGrF9eCT",
        "outputId": "33d21e5d-641e-46f0-cdd0-ffe20bca7264"
      },
      "execution_count": null,
      "outputs": [
        {
          "output_type": "execute_result",
          "data": {
            "text/plain": [
              "2.5051659781952214e-06"
            ]
          },
          "metadata": {},
          "execution_count": 56
        }
      ]
    },
    {
      "cell_type": "code",
      "source": [
        "if (p_val > alpha):\n",
        "    print(\"Null hypothesis cannot be rejected\")\n",
        "else:\n",
        "    print(\"Reject null hypothesis\")"
      ],
      "metadata": {
        "colab": {
          "base_uri": "https://localhost:8080/"
        },
        "id": "EHziiL8C9sKT",
        "outputId": "f2270a28-dd88-4b8f-9ee5-67f2e0a03017"
      },
      "execution_count": null,
      "outputs": [
        {
          "output_type": "stream",
          "name": "stdout",
          "text": [
            "Reject null hypothesis\n"
          ]
        }
      ]
    },
    {
      "cell_type": "markdown",
      "source": [
        "T-TEST\n"
      ],
      "metadata": {
        "id": "vyrlbpNrBcxY"
      }
    },
    {
      "cell_type": "markdown",
      "source": [
        "TWO TAIL"
      ],
      "metadata": {
        "id": "YKarZXG2LDSY"
      }
    },
    {
      "cell_type": "code",
      "source": [
        "#H0 : μ = 16.3, Ha : μ != 16.3\n",
        "n = 20\n",
        "degrees_of_freedom = n-1\n",
        "xbar = 3.18\n",
        "mu = 3.10\n",
        "s = 0.54\n",
        "alpha = 0.05"
      ],
      "metadata": {
        "id": "AA0z1-B-Bfa9"
      },
      "execution_count": null,
      "outputs": []
    },
    {
      "cell_type": "code",
      "source": [
        "t = (xbar - mu)/(s / np.sqrt(n))\n",
        "t"
      ],
      "metadata": {
        "colab": {
          "base_uri": "https://localhost:8080/"
        },
        "id": "Bm1HX2hsJlf_",
        "outputId": "042cc1f0-83ec-48cb-bb2d-5ea02186d951"
      },
      "execution_count": null,
      "outputs": [
        {
          "output_type": "execute_result",
          "data": {
            "text/plain": [
              "0.6625386599999382"
            ]
          },
          "metadata": {},
          "execution_count": 64
        }
      ]
    },
    {
      "cell_type": "code",
      "source": [
        "t_critical = st.t.ppf(alpha/2, degrees_of_freedom)\n",
        "t_critical"
      ],
      "metadata": {
        "colab": {
          "base_uri": "https://localhost:8080/"
        },
        "id": "QJCBaePUJqZh",
        "outputId": "afb419e8-c8ef-490c-f3cf-4145cf00a3d9"
      },
      "execution_count": null,
      "outputs": [
        {
          "output_type": "execute_result",
          "data": {
            "text/plain": [
              "-2.0930240544082634"
            ]
          },
          "metadata": {},
          "execution_count": 65
        }
      ]
    },
    {
      "cell_type": "code",
      "source": [
        "if (abs(t) < abs(t_critical)): \n",
        "    print(\"Null hypothesis cannot be rejected\")\n",
        "else:\n",
        "    print(\"Reject null hypothesis\")"
      ],
      "metadata": {
        "colab": {
          "base_uri": "https://localhost:8080/"
        },
        "id": "HdW6RTX1JtDM",
        "outputId": "7fd5d71f-e3e8-46bb-bd05-f4233bb6d98b"
      },
      "execution_count": null,
      "outputs": [
        {
          "output_type": "stream",
          "name": "stdout",
          "text": [
            "Null hypothesis cannot be rejected\n"
          ]
        }
      ]
    },
    {
      "cell_type": "markdown",
      "source": [
        "RIGHT TAIL"
      ],
      "metadata": {
        "id": "Y9KYkUBeLGm-"
      }
    },
    {
      "cell_type": "code",
      "source": [
        "n = 11\n",
        "degrees_of_freedom = n-1\n",
        "xbar = 8.7\n",
        "mu = 7\n",
        "s = 2.7\n",
        "alpha = 0.10"
      ],
      "metadata": {
        "id": "1THG26xYMM9v"
      },
      "execution_count": null,
      "outputs": []
    },
    {
      "cell_type": "code",
      "source": [
        "t = (xbar - mu)/(s / np.sqrt(n))\n",
        "t"
      ],
      "metadata": {
        "colab": {
          "base_uri": "https://localhost:8080/"
        },
        "id": "puwVTqwcMfrt",
        "outputId": "d4cecded-9ec9-46b2-9c9c-1ac3c94de4c9"
      },
      "execution_count": null,
      "outputs": [
        {
          "output_type": "execute_result",
          "data": {
            "text/plain": [
              "2.0882452383719174"
            ]
          },
          "metadata": {},
          "execution_count": 68
        }
      ]
    },
    {
      "cell_type": "code",
      "source": [
        "t_critical = abs(st.t.ppf(alpha, degrees_of_freedom))\n",
        "t_critical"
      ],
      "metadata": {
        "colab": {
          "base_uri": "https://localhost:8080/"
        },
        "id": "EV07OomnLJcY",
        "outputId": "53767a5b-8000-4a01-ae7f-95a35f8922c1"
      },
      "execution_count": null,
      "outputs": [
        {
          "output_type": "execute_result",
          "data": {
            "text/plain": [
              "1.3721836411102861"
            ]
          },
          "metadata": {},
          "execution_count": 69
        }
      ]
    },
    {
      "cell_type": "code",
      "source": [
        "if (abs(t) < abs(t_critical)): \n",
        "    print(\"Null hypothesis cannot be rejected\")\n",
        "else:\n",
        "    print(\"Reject null hypothesis\")"
      ],
      "metadata": {
        "colab": {
          "base_uri": "https://localhost:8080/"
        },
        "id": "Q8uI9_baMjl3",
        "outputId": "8f7109c6-096a-4ccf-fdad-e681281de34a"
      },
      "execution_count": null,
      "outputs": [
        {
          "output_type": "stream",
          "name": "stdout",
          "text": [
            "Reject null hypothesis\n"
          ]
        }
      ]
    },
    {
      "cell_type": "markdown",
      "source": [
        "LEFT TAIL"
      ],
      "metadata": {
        "id": "8SIfjhvcLirW"
      }
    },
    {
      "cell_type": "code",
      "source": [
        "n = 64\n",
        "degrees_of_freedom = n-1\n",
        "xbar = 3.57\n",
        "mu = 3.7\n",
        "s = 0.8\n",
        "alpha = 0.05"
      ],
      "metadata": {
        "id": "JGOk8bRaQYnv"
      },
      "execution_count": null,
      "outputs": []
    },
    {
      "cell_type": "code",
      "source": [
        "t = (xbar - mu)/(s / np.sqrt(n))\n",
        "t"
      ],
      "metadata": {
        "colab": {
          "base_uri": "https://localhost:8080/"
        },
        "id": "MRazXZBzQo_-",
        "outputId": "d8f706c1-9722-41ec-a4ae-1a782a286330"
      },
      "execution_count": null,
      "outputs": [
        {
          "output_type": "execute_result",
          "data": {
            "text/plain": [
              "-1.3000000000000034"
            ]
          },
          "metadata": {},
          "execution_count": 72
        }
      ]
    },
    {
      "cell_type": "code",
      "source": [
        "t_critical = st.t.ppf(alpha, degrees_of_freedom)\n",
        "t_critical"
      ],
      "metadata": {
        "colab": {
          "base_uri": "https://localhost:8080/"
        },
        "id": "hGg2QLVgLmCR",
        "outputId": "fe99c7d9-1ea5-4ff1-8184-74a942c70270"
      },
      "execution_count": null,
      "outputs": [
        {
          "output_type": "execute_result",
          "data": {
            "text/plain": [
              "-1.6694022215079614"
            ]
          },
          "metadata": {},
          "execution_count": 73
        }
      ]
    },
    {
      "cell_type": "code",
      "source": [
        "if t > t_critical: \n",
        "    print(\"Null hypothesis cannot be rejected\")\n",
        "else:\n",
        "    print(\"Reject null hypothesis\")"
      ],
      "metadata": {
        "colab": {
          "base_uri": "https://localhost:8080/"
        },
        "id": "W_8P9xKtQzLS",
        "outputId": "be3476ca-909b-4612-a2bc-2be0d9a491eb"
      },
      "execution_count": null,
      "outputs": [
        {
          "output_type": "stream",
          "name": "stdout",
          "text": [
            "Null hypothesis cannot be rejected\n"
          ]
        }
      ]
    },
    {
      "cell_type": "markdown",
      "source": [
        "t-Test using P-value"
      ],
      "metadata": {
        "id": "2oXltPAXT8Ws"
      }
    },
    {
      "cell_type": "code",
      "source": [
        "n = 15\n",
        "degrees_of_freedom = n-1\n",
        "xbar = 40.6\n",
        "mu = 36.7\n",
        "s = 6\n",
        "alpha = 0.05"
      ],
      "metadata": {
        "id": "gAUKMWpVUAki"
      },
      "execution_count": null,
      "outputs": []
    },
    {
      "cell_type": "code",
      "source": [
        "t = (xbar - mu)/(s / np.sqrt(n))\n",
        "t"
      ],
      "metadata": {
        "id": "3gxhypTbUDPW",
        "outputId": "41bf80f4-6d77-4963-9e73-debc68b3afdf",
        "colab": {
          "base_uri": "https://localhost:8080/"
        }
      },
      "execution_count": null,
      "outputs": [
        {
          "output_type": "execute_result",
          "data": {
            "text/plain": [
              "2.51743917503482"
            ]
          },
          "metadata": {},
          "execution_count": 77
        }
      ]
    },
    {
      "cell_type": "code",
      "source": [
        "p_val = (1 - st.t.cdf(abs(t), degrees_of_freedom)) #\"1 - cdf\" because it's a right-tailed test\n",
        "p_val"
      ],
      "metadata": {
        "id": "nBEBW-LWUHJD",
        "outputId": "0f410409-d4e9-4488-8f1b-1fbcc27e8857",
        "colab": {
          "base_uri": "https://localhost:8080/"
        }
      },
      "execution_count": null,
      "outputs": [
        {
          "output_type": "execute_result",
          "data": {
            "text/plain": [
              "0.012311189053656801"
            ]
          },
          "metadata": {},
          "execution_count": 78
        }
      ]
    },
    {
      "cell_type": "code",
      "source": [
        "if (p_val > alpha):\n",
        "    print(\"Null hypothesis cannot be rejected\")\n",
        "else:\n",
        "    print(\"Reject null hypothesis\")"
      ],
      "metadata": {
        "id": "m0ey46CIUH6z",
        "outputId": "7165a0e7-410a-4093-a50d-42c49bb618f0",
        "colab": {
          "base_uri": "https://localhost:8080/"
        }
      },
      "execution_count": null,
      "outputs": [
        {
          "output_type": "stream",
          "name": "stdout",
          "text": [
            "Reject null hypothesis\n"
          ]
        }
      ]
    }
  ]
}